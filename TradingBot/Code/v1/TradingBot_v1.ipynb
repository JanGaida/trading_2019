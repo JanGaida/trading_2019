{
  "nbformat": 4,
  "nbformat_minor": 0,
  "metadata": {
    "colab": {
      "name": "TradingBot_v1.ipynb",
      "provenance": [],
      "collapsed_sections": []
    },
    "kernelspec": {
      "name": "python3",
      "display_name": "Python 3"
    }
  },
  "cells": [
    {
      "cell_type": "markdown",
      "metadata": {
        "id": "JlBMPH5OYt5r",
        "colab_type": "text"
      },
      "source": [
        "# **Trading Bot**\n",
        "\n",
        "> Studienarbeit in Applied Big Data Analytics. Umsetzung eines Trading-Bots mit Hilfe von Strategien und Auswertung von Wertpapieren.\n",
        "\n",
        "*   **Einführung**\n",
        "*   **Klassen**\n",
        "*   **Funktionalität**\n",
        "*   **Tests**"
      ]
    },
    {
      "cell_type": "markdown",
      "metadata": {
        "id": "FfkPmz07RsKq",
        "colab_type": "text"
      },
      "source": [
        "## **Einführung**\n",
        "\n",
        "> Der Trading-Bot ist das Bindeglied zwischen Logik und Aktion. Die API liefert Strategien, die Signale für das Kaufen oder Verkaufen von Wertpapieren beinhalten. Mit diesen Signalen kann automatisch gehandelt werden.\n",
        "\n",
        "*   **Vorteile**\n",
        "\n",
        "    1.   Minimieren von Emotionen\n",
        "    > Keine Emotionen beim Handeln, kein voreiliges Verkaufen\n",
        "\n",
        "    2.   Disziplin\n",
        "    > Bot hält sich an Vorgaben, kein Erzwingen von Profit möglich, Fehlkäufe unterbinden\n",
        "\n",
        "    3.   Backtesting\n",
        "    > Test mit historischen Daten, Test kann Fehler dezimieren\n",
        "\n",
        "    4.   Schnelles Agieren\n",
        "    > Trades werden SOFORT durchgeführt, erreichen von Stop-Loss oder Profit-Targets führen Trade aus\n",
        "\n",
        "*   **Nachteile**\n",
        "\n",
        "    1.   Systemfehler\n",
        "    > Internetverbindung unterbrochen\n",
        "\n",
        "    2.   Überwachung\n",
        "    > System muss stets überwacht werden\n",
        "\n",
        "    3.   Überoptimierung\n",
        "    > Auf Papier großartige Strategie, Backtests zeigen Schwachstellen auf\n",
        "\n",
        "    4.   Betrug\n",
        "    > Oft sind Angebote für Bots zu gut um wahr zu sein!\n",
        "\n"
      ]
    },
    {
      "cell_type": "markdown",
      "metadata": {
        "id": "FnbuiQonQhtZ",
        "colab_type": "text"
      },
      "source": [
        "## **Klassen**\n",
        "\n",
        "> Nachfolgend werden alle Klassen, die in diesem Programm verwendet und gebraucht werden beschrieben."
      ]
    },
    {
      "cell_type": "markdown",
      "metadata": {
        "id": "mODKJ0RinqPp",
        "colab_type": "text"
      },
      "source": [
        "### **User**\n",
        "\n",
        "> Nutzer, der sich mit Hilfe dieses Bots am Tradingmarkt beteiligen möchte. Aktuell wird mit historischen Daten gehandelt. Ziel ist es, über eine API von *Bittrex* oder ähnlichem am Live-Markt Trades durchzuführen.\n",
        "\n",
        "* **User** - id, Name, Guthaben"
      ]
    },
    {
      "cell_type": "code",
      "metadata": {
        "id": "qjfEVu94PpZD",
        "colab_type": "code",
        "colab": {}
      },
      "source": [
        "class User:\n",
        "  def __init__(self, id, name, budget):\n",
        "    self.id = id\n",
        "    self.name = name\n",
        "    self.budget = budget\n",
        "    self.trades = []\n",
        "\n",
        "  def getTradeId(self):\n",
        "    return len(self.trades)"
      ],
      "execution_count": 0,
      "outputs": []
    },
    {
      "cell_type": "markdown",
      "metadata": {
        "id": "HZF81AubPzyD",
        "colab_type": "text"
      },
      "source": [
        "### **Strategie**\n",
        "\n",
        "> Die API liefert fertige Strategien, die ein Signal und ein Wertpapier beinhalten. Mittels dieses Signals werden Trades geöffnet oder geschlossen.\n",
        "\n",
        "* **Strategie** - id, Name, Wertpapier, Signal"
      ]
    },
    {
      "cell_type": "code",
      "metadata": {
        "id": "rsLUmGutPrYx",
        "colab_type": "code",
        "colab": {}
      },
      "source": [
        "class Strategie:\n",
        "  def __init__(self, id, name, date, wp, signal):\n",
        "    self.id = id\n",
        "    self.name = name\n",
        "    self.date = date\n",
        "    self.wp = wp\n",
        "    self.signal = signal"
      ],
      "execution_count": 0,
      "outputs": []
    },
    {
      "cell_type": "markdown",
      "metadata": {
        "id": "IX7FhoBOP1p0",
        "colab_type": "text"
      },
      "source": [
        "### **Trade**\n",
        "\n",
        "> Ein Trade ist eine Aktion die am Handelsmarkt durchgeführt wird. Hier werden unter anderem das Datum des Trades, das dabei verwendete Wertpapier und die Menge, die gehandelt wurde angegeben.\n",
        "\n",
        "* **Trade** - id, Datum des Trades, Wertpapier, Menge"
      ]
    },
    {
      "cell_type": "code",
      "metadata": {
        "id": "05e-V_JOPsiV",
        "colab_type": "code",
        "colab": {}
      },
      "source": [
        "class Trade:\n",
        "  def __init__(self, id, date, wp, amount, status):\n",
        "    self.id = id\n",
        "    self.date = date\n",
        "    self.wp = wp\n",
        "    self.amount = amount\n",
        "    self.status = status\n",
        "\n",
        "  def getAmountInBTC(self):\n",
        "    if self.wp == \"BTC\":\n",
        "      return self.amount\n",
        "    else:\n",
        "      return (self.amount * float(coins[0].course))"
      ],
      "execution_count": 0,
      "outputs": []
    },
    {
      "cell_type": "markdown",
      "metadata": {
        "id": "l3uocQVwP_jn",
        "colab_type": "text"
      },
      "source": [
        "### **Wertpapier**\n",
        "\n",
        "> Wertpapiere sind die verschiedenen zur Verfügung stehenden Anlangen, wie z.B. *BTC* oder ähnliches.\n",
        "\n",
        "* **Wertpapier** - id, Name, Shortcut, Datum, aktueller Kurs"
      ]
    },
    {
      "cell_type": "code",
      "metadata": {
        "id": "AzWjO_2PPvec",
        "colab_type": "code",
        "colab": {}
      },
      "source": [
        "class Wertpapier:\n",
        "  def __init__(self, id, name, short, date, course):\n",
        "    self.id = id\n",
        "    self.name = name\n",
        "    self.short = short\n",
        "    self.date = date\n",
        "    self.course = course"
      ],
      "execution_count": 0,
      "outputs": []
    },
    {
      "cell_type": "markdown",
      "metadata": {
        "id": "IaXBlCWXUbM4",
        "colab_type": "text"
      },
      "source": [
        "## **Funktionalität**\n",
        "\n",
        "> Nachfolgend werden alle Funktionen, die das Auswerten der Strategien von der API ermöglichen und wie welche Signale umgesetzt werden, beschrieben."
      ]
    },
    {
      "cell_type": "markdown",
      "metadata": {
        "id": "VW-IVw8HqPBd",
        "colab_type": "text"
      },
      "source": [
        "### **Trends**\n",
        "\n",
        "> Außerordentliche Entwicklung der Bewertung eines Wertpapiers in eine bestimmte Richtung."
      ]
    },
    {
      "cell_type": "markdown",
      "metadata": {
        "id": "-MUA7tI0VU7g",
        "colab_type": "text"
      },
      "source": [
        "* **Abwärtstrend**\n",
        "\n",
        "> Ein Abwärtstrend ist dadurch gekennzeichnet, dass die Tiefs immer tiefer als das Tief zuvor und die Hochs immer tiefer als die Hochs zuvor sind. Die Extrempunkte sind also immer tiefer."
      ]
    },
    {
      "cell_type": "markdown",
      "metadata": {
        "id": "ogrb6KVWVDc1",
        "colab_type": "text"
      },
      "source": [
        "* **Aufwärtstrend**\n",
        "\n",
        "> Ein Aufwärtstrend ist dadurch gekennzeichnet, dass die folgenden Hochs immer höher als das Hoch zuvor und die Tiefs ebenfalls immer höher als die Tiefs zuvor sind. Die Extrempunkte sind also immer höher.\n"
      ]
    },
    {
      "cell_type": "markdown",
      "metadata": {
        "id": "k4a4L3jm9HkQ",
        "colab_type": "text"
      },
      "source": [
        "### **Aktionen**\n",
        "\n",
        "> Entsprechend der Trends und Signale, die die API liefert, werden entsprechende Aktionen ausgeführt."
      ]
    },
    {
      "cell_type": "markdown",
      "metadata": {
        "id": "snKXi8NpVS-Q",
        "colab_type": "text"
      },
      "source": [
        "* **Verkaufen**\n",
        "\n",
        "> Beschreibung Verkaufen\n",
        "\n",
        "Signal | Trend\n",
        "--- | ---\n",
        "**VO** | erstes Verkaufsignal\n",
        "**V1** | zweites Verkaufsignal\n",
        "**V2** | drittes Verkaufsignal\n",
        "**V3** | viertes Verkaufsignal"
      ]
    },
    {
      "cell_type": "markdown",
      "metadata": {
        "id": "zPEm2pGiVrNd",
        "colab_type": "text"
      },
      "source": [
        "* **Kaufen**\n",
        "\n",
        "> Beschreibung Kaufen\n",
        "\n",
        "Signal | Definition\n",
        "--- | ---\n",
        "**KO** | erstes Kaufsignal\n",
        "**K1** | zweites Kaufsignal\n",
        "**K2** | drittes Kaufsignal\n",
        "**K3** | viertes Kaufsignal\n",
        "\n"
      ]
    },
    {
      "cell_type": "markdown",
      "metadata": {
        "id": "eM2yR-d2Vw-c",
        "colab_type": "text"
      },
      "source": [
        "* **Halten**\n",
        "\n",
        "> Beschreibung Halten\n",
        "\n",
        "Signal | Definition\n",
        "--- | ---\n",
        "**HO** | erstes Haltesignal\n",
        "**H1** | zweites Haltesignal\n",
        "**H2** | drittes Haltesignal\n",
        "**H3** | viertes Haltesignal\n",
        "\n",
        "---"
      ]
    },
    {
      "cell_type": "code",
      "metadata": {
        "id": "gYG_f6rMhgpT",
        "colab_type": "code",
        "colab": {}
      },
      "source": [
        "### Kaufen von Menge x :: (Wertpapier) \n",
        "\n",
        "def buy(fak, wp):\n",
        "  value = testUser.budget * fak\n",
        "  testUser.budget = testUser.budget - value \n",
        "  today = date.today()\n",
        "  tradeId = testUser.getTradeId()\n",
        "  \n",
        "  print(\":: TRADE(\" + str(tradeId) + \")\")\n",
        "  print(\" :: BUY \" + str(value) + \" BTC of \" + wp.short)\n",
        "  newTrade = Trade(tradeId, today, wp.short, value, \"run\")\n",
        "  testUser.trades.append(newTrade)\n",
        "\n",
        "### Verkaufen von Menge x :: (Wertpapier) \n",
        "\n",
        "def sell(fak, wp):\n",
        "\n",
        "  for trade in testUser.trades:\n",
        "    atMarket = 0\n",
        "\n",
        "    if (trade.status == \"run\"):\n",
        "      print(\":: TRADE(\" + str(trade.id) + \") - \" + trade.status)\n",
        "      print(\":: TRADE AMOUNT \" + str(trade.getAmountInBTC()))\n",
        "      if trade.wp == wp.short:\n",
        "        atMarket = trade.amount\n",
        "        testUser.budget = testUser.budget + atMarket\n",
        "        print(\" :: SELL(\" + str(trade.id) + \") - in BTC: \" + str(atMarket))\n",
        "        testUser.trades[trade.id].status = \"stop\"\n",
        "\n",
        "  print(\":::: NEW BALANCE \" + str(testUser.budget) + \" BTC ::::\")\n",
        "\n",
        "\n",
        "### Handeln nach passender Strategie\n",
        "\n",
        "def actWithStrat(strategie):\n",
        "\n",
        "      ## VERKAUFEN\n",
        "\n",
        "        #   - Anfordern des Trades um Höhe der auf dem Markt platzierten Tradeoffer zu erhalten\n",
        "        #   - Einstellen der Verkaufsmenge\n",
        "        #   - Verkaufen\n",
        "\n",
        "      ## Verkaufen - 1. Signal\n",
        "  if strategie.signal == \"V0\":\n",
        "    sell(0.25, strategie.wp)\n",
        "\n",
        "      ## Verkaufen - 2. Signal\n",
        "  elif strategie.signal == \"V1\":\n",
        "    sell(0.33, strategie.wp)\n",
        "\n",
        "      ## Verkaufen - 3. Signal\n",
        "  elif strategie.signal == \"V2\":\n",
        "    sell(0.5, strategie.wp)\n",
        "\n",
        "      ## Verkaufen - 4. Signal\n",
        "  elif strategie.signal == \"V3\":\n",
        "    sell(1, strategie.wp)\n",
        "\n",
        "      ### KAUFEN\n",
        "\n",
        "        #   - Anfordern des Budgets, welches dem User zur Verfügung steht\n",
        "        #   - Einstellen der Kaufmenge\n",
        "        #   - Erstellen der Tradeoffer\n",
        "        #   - Eintragung in Trades des Users\n",
        "\n",
        "      ## Kaufen - 1. Signal\n",
        "  elif strategie.signal == \"K0\":\n",
        "    buy(0.25, strategie.wp)\n",
        "\n",
        "      ## Kaufen - 2. Signal\n",
        "  elif strategie.signal == \"K1\":\n",
        "    buy(0.33, strategie.wp)\n",
        "\n",
        "      ## Kaufen - 3. Signal\n",
        "  elif strategie.signal == \"K2\":\n",
        "    buy(0.5, strategie.wp)\n",
        "\n",
        "      ## Kaufen - 4. Signal\n",
        "  elif strategie.signal == \"K3\":\n",
        "    buy(1, strategie.wp)\n",
        "\n",
        "  else:\n",
        "    print(\":::HALTEN\")\n",
        "    "
      ],
      "execution_count": 0,
      "outputs": []
    },
    {
      "cell_type": "markdown",
      "metadata": {
        "id": "fB1qxB2cWUow",
        "colab_type": "text"
      },
      "source": [
        "## **Bot-Menu**\n",
        "\n",
        "> Um Visualisierung zu ermöglichen wird ein kleines Menü erstellt, um Einstellungen und Strategien verwalten zu können."
      ]
    },
    {
      "cell_type": "code",
      "metadata": {
        "id": "yjzkWnz_Zn80",
        "colab_type": "code",
        "colab": {}
      },
      "source": [
        "einstellung1 = \"1: Placeholder\"\n",
        "einstellung2 = \"2: Placeholder\"\n",
        "einstellung3 = \"3: Placeholder\"\n",
        "einstellungen = [einstellung1, einstellung2, einstellung3]\n",
        "\n",
        "def printEinstellungen():\n",
        "  print(\":: EINSTELLUNGEN\")\n",
        "  for e in einstellungen:\n",
        "    print(e)\n",
        "  print()\n",
        "  print(\"0: Zurück\")\n",
        "  print()"
      ],
      "execution_count": 0,
      "outputs": []
    },
    {
      "cell_type": "code",
      "metadata": {
        "id": "1rtI_yZiZzBL",
        "colab_type": "code",
        "colab": {}
      },
      "source": [
        "strategie1 = [\"1: Strategie #1\", \"123\"]\n",
        "strategie2 = [\"2: Strategie #2\", \"234\"]\n",
        "strategie3 = [\"3: Strategie #3\", \"345\"]\n",
        "strategien = [strategie1, strategie2, strategie3]\n",
        "\n",
        "def printStrategien():\n",
        "  print(\":: STRATEGIEN\")\n",
        "  for s in strategien:\n",
        "    print(s[0])\n",
        "  print()\n",
        "  print(\"0: Zurück\")\n",
        "  print()\n",
        "\n",
        "def runStrategie(id):\n",
        "  strat = getStrategie(strategien[id-1][1])\n",
        "\n",
        "  actWithStrat(strat)"
      ],
      "execution_count": 0,
      "outputs": []
    },
    {
      "cell_type": "code",
      "metadata": {
        "id": "wBXRtRSEZ2h6",
        "colab_type": "code",
        "colab": {}
      },
      "source": [
        "budget1 = \"1: Guthaben\"\n",
        "budget2 = \"2: Einzahlung\"\n",
        "budget3 = \"3: Zahlungsverlauf\"\n",
        "budgets = [budget1, budget2, budget3]\n",
        "\n",
        "def printBudgets():\n",
        "  print(\":: BUDGET\")\n",
        "  for b in budgets:\n",
        "    print(b)\n",
        "  print()\n",
        "  print(\"0: Zurück\")\n",
        "  print()\n"
      ],
      "execution_count": 0,
      "outputs": []
    },
    {
      "cell_type": "code",
      "metadata": {
        "id": "wsAvMu5rWSrB",
        "colab_type": "code",
        "colab": {}
      },
      "source": [
        "menu1 = \"1: Einstellungen\"\n",
        "menu2 = \"2: Strategien\"\n",
        "menu3 = \"3: Budget\"\n",
        "\n",
        "menu = [menu1, menu2, menu3]\n",
        "\n",
        "def printMenu():\n",
        "  print(\":: TRADING BOT\")\n",
        "  for m in menu:\n",
        "    print(m)\n",
        "  print()"
      ],
      "execution_count": 0,
      "outputs": []
    },
    {
      "cell_type": "markdown",
      "metadata": {
        "id": "uSjZ5QkIV6eb",
        "colab_type": "text"
      },
      "source": [
        "## **Tests**\n",
        "\n",
        "> Beschreibung Tests"
      ]
    },
    {
      "cell_type": "code",
      "metadata": {
        "id": "hHKHeTsTN0Hb",
        "colab_type": "code",
        "outputId": "52bf5199-6a47-47cf-8e78-4bd727563cee",
        "colab": {
          "base_uri": "https://localhost:8080/",
          "height": 34
        }
      },
      "source": [
        "!git clone https://github.com/sleuoth-hof/trading_2019.git"
      ],
      "execution_count": 843,
      "outputs": [
        {
          "output_type": "stream",
          "text": [
            "fatal: destination path 'trading_2019' already exists and is not an empty directory.\n"
          ],
          "name": "stdout"
        }
      ]
    },
    {
      "cell_type": "code",
      "metadata": {
        "id": "bK8nD77hQGX_",
        "colab_type": "code",
        "colab": {}
      },
      "source": [
        "from datetime import date\n",
        "import csv\n",
        "\n",
        "coins = []\n",
        "\n",
        "with open('trading_2019/TradingBot/Code/v1/coins_1.csv', 'r') as _filehandler:\n",
        "  csv_file_reader = csv.DictReader(_filehandler)\n",
        "\n",
        "  for row in csv_file_reader:\n",
        "    coin = Wertpapier(row['id'], row['name'], row['short'], row['date'], row['course'])\n",
        "    coins.append(coin)\n",
        "  "
      ],
      "execution_count": 0,
      "outputs": []
    },
    {
      "cell_type": "code",
      "metadata": {
        "id": "k54StZU8RfpU",
        "colab_type": "code",
        "outputId": "febf28e4-a2c5-4c1a-8286-b74b71d7cf12",
        "colab": {
          "base_uri": "https://localhost:8080/",
          "height": 102
        }
      },
      "source": [
        "for coin in coins:\n",
        "  print(\":: \" + coin.name + \" (\" + coin.short +\")\" + \" am: \" + coin.date + \" - \" + coin.course)"
      ],
      "execution_count": 845,
      "outputs": [
        {
          "output_type": "stream",
          "text": [
            ":: Bitcoin (BTC) am: 20191214 - 7065.3398\n",
            ":: Ethereum (ETH) am: 20191214 - 141.4040\n",
            ":: Ripple (XRP) am: 20191214 - 0.2153\n",
            ":: Tether (USDT) am: 20191214 - 1.0066\n",
            ":: Litecoin (LTC) am: 20191214 - 43.1805\n"
          ],
          "name": "stdout"
        }
      ]
    },
    {
      "cell_type": "markdown",
      "metadata": {
        "id": "0FmWQ-i-KHzF",
        "colab_type": "text"
      },
      "source": [
        "## TEST 1\n",
        "\n",
        "* *Max Mustermann, Startbudget: 1 BTC*\n",
        "  * Strategien\n",
        "    * Strategie 1 : K1\n",
        "    * Strategie 2 : V1\n",
        "  * Funktionen\n",
        "    * Handel von Bitcoins mit Bitcoins\n",
        "    * Kaufen nach Strategie K1\n",
        "    * Verkaufen nach Strategie V1"
      ]
    },
    {
      "cell_type": "code",
      "metadata": {
        "id": "4LQSgOGDWATx",
        "colab_type": "code",
        "colab": {
          "base_uri": "https://localhost:8080/",
          "height": 204
        },
        "outputId": "2ddbce76-56c4-4d0f-8631-606bdfc43306"
      },
      "source": [
        "testUser = User(0, \"Max Mustermann\", 1)\n",
        "\n",
        "strategie123 = Strategie(0, \"123\", \"2019-12-21\", coins[0], \"K1\")\n",
        "strategie234 = Strategie(0, \"234\", \"2019-12-22\", coins[0], \"V1\")\n",
        "allStrategies = [strategie123, strategie234]\n",
        "\n",
        "actWithStrat(allStrategies[0])\n",
        "actWithStrat(allStrategies[0])\n",
        "\n",
        "actWithStrat(allStrategies[1])"
      ],
      "execution_count": 846,
      "outputs": [
        {
          "output_type": "stream",
          "text": [
            ":: TRADE(0)\n",
            " :: BUY 0.33 BTC of BTC\n",
            ":: TRADE(1)\n",
            " :: BUY 0.2211 BTC of BTC\n",
            ":: TRADE(0) - run\n",
            ":: TRADE AMOUNT 0.33\n",
            " :: SELL(0) - in BTC: 0.33\n",
            ":: TRADE(1) - run\n",
            ":: TRADE AMOUNT 0.2211\n",
            " :: SELL(1) - in BTC: 0.2211\n",
            ":::: NEW BALANCE 0.9999999999999999 BTC ::::\n"
          ],
          "name": "stdout"
        }
      ]
    },
    {
      "cell_type": "code",
      "metadata": {
        "id": "nftJalBWWxuH",
        "colab_type": "code",
        "outputId": "00c7feba-d92e-469e-afc7-229f0c16ca20",
        "colab": {
          "base_uri": "https://localhost:8080/",
          "height": 459
        }
      },
      "source": [
        "printMenu()\n",
        "\n",
        "printEinstellungen()\n",
        "\n",
        "printStrategien()\n",
        "\n",
        "printBudgets()"
      ],
      "execution_count": 847,
      "outputs": [
        {
          "output_type": "stream",
          "text": [
            ":: TRADING BOT\n",
            "1: Einstellungen\n",
            "2: Strategien\n",
            "3: Budget\n",
            "\n",
            ":: EINSTELLUNGEN\n",
            "1: Placeholder\n",
            "2: Placeholder\n",
            "3: Placeholder\n",
            "\n",
            "0: Zurück\n",
            "\n",
            ":: STRATEGIEN\n",
            "1: Strategie #1\n",
            "2: Strategie #2\n",
            "3: Strategie #3\n",
            "\n",
            "0: Zurück\n",
            "\n",
            ":: BUDGET\n",
            "1: Guthaben\n",
            "2: Einzahlung\n",
            "3: Zahlungsverlauf\n",
            "\n",
            "0: Zurück\n",
            "\n"
          ],
          "name": "stdout"
        }
      ]
    }
  ]
}